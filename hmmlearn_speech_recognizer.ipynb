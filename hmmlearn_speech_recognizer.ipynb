{
 "cells": [
  {
   "cell_type": "code",
   "execution_count": null,
   "metadata": {},
   "outputs": [],
   "source": [
    "import os, argparse, warnings\n",
    "import numpy as np\n",
    "from scipy.io import wavfile\n",
    "from hmmlearn import hmm\n",
    "from features import mfcc\n",
    "\n",
    "# Define a function to parse the input arguments\n",
    "def build_arg_parser():\n",
    "    parser = argparse.ArgumentParser(description='Trains the HMM-based speech recognition system')\n",
    "    parser.add_argument(\"--input-folder\", dest=\"input_folder\", required=True, help=\"Input folder containing the audio files for training\")\n",
    "    return parser"
   ]
  }
 ],
 "metadata": {
  "kernelspec": {
   "display_name": "Python 3",
   "language": "python",
   "name": "python3"
  },
  "language_info": {
   "codemirror_mode": {
    "name": "ipython",
    "version": 3
   },
   "file_extension": ".py",
   "mimetype": "text/x-python",
   "name": "python",
   "nbconvert_exporter": "python",
   "pygments_lexer": "ipython3",
   "version": "3.6.5"
  }
 },
 "nbformat": 4,
 "nbformat_minor": 2
}
